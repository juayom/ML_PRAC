{
 "cells": [
  {
   "cell_type": "code",
   "execution_count": 2,
   "id": "0c233b62-85f2-46e3-bc17-06821ea0c5b2",
   "metadata": {},
   "outputs": [],
   "source": [
    "import os                         # 파일과 디렉토리 경로 관리\n",
    "import kagglehub                  # 캐글 데이터셋 불러옴\n",
    "import numpy as np                # 배열\n",
    "import pandas as pd               # 데이터 조작 및 분석용 데이터프레임\n",
    "from scipy.io import wavfile      # wav 파일 처리\n",
    "from sklearn.model_selection import train_test_split      # 데이터셋을 학습용과 테스트용으로 분리\n",
    "from sklearn.ensemble import RandomForestClassifier       # 랜덤포레스트 알고리즘\n",
    "from sklearn.metrics import accuracy_score, classification_report, confusion_matrix  # 모델성능평가도구\n",
    "import seaborn as sns             # 데이터 시각화 라이브러리\n",
    "import matplotlib.pyplot as plt   # 그래프 시각화"
   ]
  },
  {
   "cell_type": "code",
   "execution_count": 3,
   "id": "c291b216-62cf-4a56-af3b-eae9e40097a2",
   "metadata": {},
   "outputs": [
    {
     "name": "stdout",
     "output_type": "stream",
     "text": [
      "Path to dataset files: C:\\Users\\tlswn\\.cache\\kagglehub\\datasets\\andradaolteanu\\gtzan-dataset-music-genre-classification\\versions\\1\n"
     ]
    }
   ],
   "source": [
    "# KaggleHub을 이용해 데이터 다운로드\n",
    "path = kagglehub.dataset_download(\"andradaolteanu/gtzan-dataset-music-genre-classification\")\n",
    "print(\"Path to dataset files:\", path)"
   ]
  },
  {
   "cell_type": "code",
   "execution_count": 4,
   "id": "1f5b18e0-bcf4-4479-a709-436213985116",
   "metadata": {},
   "outputs": [],
   "source": [
    "# 경로 설정\n",
    "audio_folder = os.path.join(path, \"Data/genres_original\")\n",
    "genres = os.listdir(audio_folder)"
   ]
  },
  {
   "cell_type": "code",
   "execution_count": 5,
   "id": "c8ea92c3-bb21-49a0-b35a-0a824f033a68",
   "metadata": {},
   "outputs": [
    {
     "name": "stdout",
     "output_type": "stream",
     "text": [
      "            filename  length  chroma_stft_mean  chroma_stft_var  rms_mean  \\\n",
      "0  blues.00000.0.wav   66149          0.335406         0.091048  0.130405   \n",
      "1  blues.00000.1.wav   66149          0.343065         0.086147  0.112699   \n",
      "2  blues.00000.2.wav   66149          0.346815         0.092243  0.132003   \n",
      "3  blues.00000.3.wav   66149          0.363639         0.086856  0.132565   \n",
      "4  blues.00000.4.wav   66149          0.335579         0.088129  0.143289   \n",
      "\n",
      "    rms_var  spectral_centroid_mean  spectral_centroid_var  \\\n",
      "0  0.003521             1773.065032          167541.630869   \n",
      "1  0.001450             1816.693777           90525.690866   \n",
      "2  0.004620             1788.539719          111407.437613   \n",
      "3  0.002448             1655.289045          111952.284517   \n",
      "4  0.001701             1630.656199           79667.267654   \n",
      "\n",
      "   spectral_bandwidth_mean  spectral_bandwidth_var  ...  mfcc16_var  \\\n",
      "0              1972.744388           117335.771563  ...   39.687145   \n",
      "1              2010.051501            65671.875673  ...   64.748276   \n",
      "2              2084.565132            75124.921716  ...   67.336563   \n",
      "3              1960.039988            82913.639269  ...   47.739452   \n",
      "4              1948.503884            60204.020268  ...   30.336359   \n",
      "\n",
      "   mfcc17_mean  mfcc17_var  mfcc18_mean  mfcc18_var  mfcc19_mean  mfcc19_var  \\\n",
      "0    -3.241280   36.488243     0.722209   38.099152    -5.050335   33.618073   \n",
      "1    -6.055294   40.677654     0.159015   51.264091    -2.837699   97.030830   \n",
      "2    -1.768610   28.348579     2.378768   45.717648    -1.938424   53.050835   \n",
      "3    -3.841155   28.337118     1.218588   34.770935    -3.580352   50.836224   \n",
      "4     0.664582   45.880913     1.689446   51.363583    -3.392489   26.738789   \n",
      "\n",
      "   mfcc20_mean  mfcc20_var  label  \n",
      "0    -0.243027   43.771767  blues  \n",
      "1     5.784063   59.943081  blues  \n",
      "2     2.517375   33.105122  blues  \n",
      "3     3.630866   32.023678  blues  \n",
      "4     0.536961   29.146694  blues  \n",
      "\n",
      "[5 rows x 60 columns]\n"
     ]
    }
   ],
   "source": [
    "data_path=os.path.join(path,\"Data/features_3_sec.csv\")\n",
    "data = pd.read_csv(data_path)\n",
    "\n",
    "# 데이터의 첫 5줄 확인\n",
    "print(data.head())\n",
    "\n",
    "# filename - 오디오 파일 이름 (장르.인덱스.세그먼트번호)\n",
    "# length - 오디오 파일 길이 \n",
    "# chroma_stft_mean(평균) & chroma_stft_var(분산) (Chroma Short-Time Flourier Transform) \n",
    "# - 주파수 스펙트럼 크기 12개 피치 클래스로 요악, 멜로디 또는 화음과 관련된 정보 캡처\n",
    "# rms_mean & rms_var (Root Mean Square) - 신호 에너지 측정(오디오 음량크기)\n",
    "# spectral_centroid_mean & spectral_centroid_var \n",
    "# - 스펙트럼 중심 (가중 평균 주파수), 음색 특징 짓는데 사용\n",
    "# spectral_bandwidth_mean & spectral_bandwidth_var \n",
    "# - 스펙트럼 대역폭 (주파수 분포 폭), 음색과 다이나믹 구분에 도움\n",
    "# rolloff_mean & rolloff_var - Spectral Rolloff 신호의 총 에너지 중 특정 백분율(약 85%)이 포함되는 주파수,\n",
    "# - 오디오의 고주파수 콘텐츠\n",
    "# zero_crossing_rate_mean & zero_crossing_rate_var \n",
    "# - 신호값이 0을 지나칠 때의 빈도(진동성), 소리의 음질과 텍스처 분석\n",
    "# harmony_mean & harmony_var - 신호의 하모니 (화음)\n",
    "# perceptr_mean & perceptr_var - 오디오의 지각적 특징(음향적 감각 관련), 사람의 청각적 특성을 모델링.\n",
    "# tempo - 음악의 속도(분당 비트 수), 음악의 리듬 표현\n",
    "# mfcc1_mean ~ mfcc20_var - MFCC (Mel-Frequency Cepstral Coefficients) 주파수 도메인에서 음향 특징을 요약한 값, 음성 신호 처리와 음악 분류에서 가장 중요한 특징\n",
    "# label - 오디오 장르"
   ]
  },
  {
   "cell_type": "code",
   "execution_count": 6,
   "id": "1c765b1f-925c-4f03-8d0d-ee0f357206cf",
   "metadata": {},
   "outputs": [
    {
     "name": "stdout",
     "output_type": "stream",
     "text": [
      "Column names: Index(['filename', 'length', 'chroma_stft_mean', 'chroma_stft_var', 'rms_mean',\n",
      "       'rms_var', 'spectral_centroid_mean', 'spectral_centroid_var',\n",
      "       'spectral_bandwidth_mean', 'spectral_bandwidth_var', 'rolloff_mean',\n",
      "       'rolloff_var', 'zero_crossing_rate_mean', 'zero_crossing_rate_var',\n",
      "       'harmony_mean', 'harmony_var', 'perceptr_mean', 'perceptr_var', 'tempo',\n",
      "       'mfcc1_mean', 'mfcc1_var', 'mfcc2_mean', 'mfcc2_var', 'mfcc3_mean',\n",
      "       'mfcc3_var', 'mfcc4_mean', 'mfcc4_var', 'mfcc5_mean', 'mfcc5_var',\n",
      "       'mfcc6_mean', 'mfcc6_var', 'mfcc7_mean', 'mfcc7_var', 'mfcc8_mean',\n",
      "       'mfcc8_var', 'mfcc9_mean', 'mfcc9_var', 'mfcc10_mean', 'mfcc10_var',\n",
      "       'mfcc11_mean', 'mfcc11_var', 'mfcc12_mean', 'mfcc12_var', 'mfcc13_mean',\n",
      "       'mfcc13_var', 'mfcc14_mean', 'mfcc14_var', 'mfcc15_mean', 'mfcc15_var',\n",
      "       'mfcc16_mean', 'mfcc16_var', 'mfcc17_mean', 'mfcc17_var', 'mfcc18_mean',\n",
      "       'mfcc18_var', 'mfcc19_mean', 'mfcc19_var', 'mfcc20_mean', 'mfcc20_var',\n",
      "       'label'],\n",
      "      dtype='object')\n"
     ]
    }
   ],
   "source": [
    "# 열 이름 확인\n",
    "print(\"Column names:\", data.columns)"
   ]
  },
  {
   "cell_type": "code",
   "execution_count": 7,
   "id": "1d194213-cfee-4ff2-bbd5-1c5fd57eb6e9",
   "metadata": {},
   "outputs": [],
   "source": [
    "# 특성과 레이블 저장\n",
    "features = []\n",
    "labels = []"
   ]
  },
  {
   "cell_type": "code",
   "execution_count": 8,
   "id": "7fc39c2c-f51e-4ee2-9614-93f133dccd39",
   "metadata": {},
   "outputs": [],
   "source": [
    "# 특성 추출 함수 (scipy 활용)\n",
    "def extract_features_with_scipy(file_path, genre_label):\n",
    "    sr, audio = wavfile.read(file_path)  # 오디오 파일 로드\n",
    "    rms = np.sqrt(np.mean(audio ** 2))  # RMS 에너지\n",
    "    mean = np.mean(audio)  # 평균\n",
    "    std = np.std(audio)  # 표준편차\n",
    "    max_val = np.max(audio)  # 최대값\n",
    "     # 특성 저장필요\n",
    "    labels.append(genre_label)  # 레이블 저장"
   ]
  },
  {
   "cell_type": "code",
   "execution_count": null,
   "id": "be0180a1-b0d1-4333-9884-5c6aa965ee20",
   "metadata": {},
   "outputs": [],
   "source": []
  }
 ],
 "metadata": {
  "kernelspec": {
   "display_name": "Python 3 (ipykernel)",
   "language": "python",
   "name": "python3"
  },
  "language_info": {
   "codemirror_mode": {
    "name": "ipython",
    "version": 3
   },
   "file_extension": ".py",
   "mimetype": "text/x-python",
   "name": "python",
   "nbconvert_exporter": "python",
   "pygments_lexer": "ipython3",
   "version": "3.11.7"
  }
 },
 "nbformat": 4,
 "nbformat_minor": 5
}
